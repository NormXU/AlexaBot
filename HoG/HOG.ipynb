{
 "cells": [
  {
   "cell_type": "code",
   "execution_count": 2,
   "metadata": {
    "collapsed": false,
    "deletable": true,
    "editable": true
   },
   "outputs": [],
   "source": [
    "from skimage.feature import hog\n",
    "from skimage.io import imread\n",
    "from sklearn.externals import joblib\n",
    "import glob\n",
    "import os\n",
    "import matplotlib.pyplot as plt\n",
    "from skimage.feature import hog\n",
    "from skimage import data, color, exposure\n",
    "from sklearn.svm import LinearSVC\n",
    "from sklearn.externals import joblib\n",
    "from sklearn import svm\n",
    "import numpy as np\n",
    "from sklearn.metrics import classification_report,accuracy_score\n",
    "import pickle"
   ]
  },
  {
   "cell_type": "code",
   "execution_count": 2,
   "metadata": {
    "collapsed": true,
    "deletable": true,
    "editable": true
   },
   "outputs": [],
   "source": [
    "def extract_HOG_features():\n",
    "    des_type = 'HOG'\n",
    "\n",
    "    print(\"Calculating the descriptors for the positive samples and saving them\")\n",
    "    hog_images = []\n",
    "    hog_features = []\n",
    "    labels = []\n",
    "    \n",
    "    for im_path in glob.glob(os.path.join(pos_im_path, \"*\")):\n",
    "        #print im_path\n",
    "        \n",
    "        im = imread(im_path, as_grey=True)\n",
    "        if des_type == \"HOG\":\n",
    "            fd, hog_image = hog(im, orientations, pixels_per_cell, cells_per_block, block_norm= 'L2',visualise=True)\n",
    "            hog_images.append(hog_image)\n",
    "            hog_features.append(fd)\n",
    "            labels.append(1)\n",
    "\n",
    "    print(\"Positive features Finished\")\n",
    "\n",
    "    print(\"Calculating the descriptors for the negative samples and saving them\")\n",
    "    for im_path in glob.glob(os.path.join(neg_im_path, \"*\")):\n",
    "        im = imread(im_path, as_grey=True)\n",
    "        if des_type == \"HOG\":\n",
    "            fd, hog_image = hog(im,  orientations, pixels_per_cell, cells_per_block, block_norm= 'L2', visualise=True)\n",
    "            hog_features.append(fd)\n",
    "            hog_images.append(hog_image)\n",
    "            labels.append(0)\n",
    "\n",
    "    \n",
    "    print(\"Negative features Finished\")\n",
    "\n",
    "    print(\"Completed calculating features from training images\")\n",
    "    return hog_images,hog_features,labels"
   ]
  },
  {
   "cell_type": "code",
   "execution_count": 3,
   "metadata": {
    "collapsed": false,
    "deletable": true,
    "editable": true
   },
   "outputs": [
    {
     "name": "stdout",
     "output_type": "stream",
     "text": [
      "Calculating the descriptors for the positive samples and saving them\n",
      "Positive features Finished\n",
      "Calculating the descriptors for the negative samples and saving them\n",
      "Negative features Finished\n",
      "Completed calculating features from training images\n"
     ]
    }
   ],
   "source": [
    "img, featues,labels = extract_HOG_features()"
   ]
  },
  {
   "cell_type": "code",
   "execution_count": 4,
   "metadata": {
    "collapsed": true,
    "deletable": true,
    "editable": true
   },
   "outputs": [],
   "source": [
    "# Save Training Data and Training Label\n",
    "f = open('features.pckl', 'wb')\n",
    "pickle.dump(featues, f)\n",
    "f.close()\n",
    "\n",
    "f = open('img.pckl', 'wb')\n",
    "pickle.dump(img, f)\n",
    "f.close()\n",
    "\n",
    "f = open('labels.pckl', 'wb')\n",
    "pickle.dump(labels, f)\n",
    "f.close()\n",
    "\n",
    "\n",
    "# Train SVM model\n",
    "clf = svm.SVC()\n",
    "hog_features = np.array(featues)\n",
    "clf.fit(hog_features,labels)\n",
    "# Save SVM model\n",
    "f = open('svmmodel.pckl', 'wb')\n",
    "pickle.dump(clf, f)\n",
    "f.close()"
   ]
  },
  {
   "cell_type": "code",
   "execution_count": 5,
   "metadata": {
    "collapsed": false,
    "deletable": true,
    "editable": true
   },
   "outputs": [
    {
     "data": {
      "text/plain": [
       "<matplotlib.image.AxesImage at 0x2089aae81d0>"
      ]
     },
     "execution_count": 5,
     "metadata": {},
     "output_type": "execute_result"
    },
    {
     "data": {
      "image/png": "[encoded data removed]",
      "text/plain": [
       "<matplotlib.figure.Figure at 0x208cb61b5f8>"
      ]
     },
     "metadata": {},
     "output_type": "display_data"
    }
   ],
   "source": [
    "plt.imshow(img[51])"
   ]
  },
  {
   "cell_type": "code",
   "execution_count": 3,
   "metadata": {
    "collapsed": true,
    "deletable": true,
    "editable": true,
    "scrolled": true
   },
   "outputs": [],
   "source": [
    "# Read Training Dataset and Training Label from model\n",
    "\n",
    "# Testing Model\n",
    "\n",
    "f = open('features.pckl', 'rb')\n",
    "featues = pickle.load(f)\n",
    "f.close()\n",
    "\n",
    "f = open('img.pckl', 'rb')\n",
    "img = pickle.load(f)\n",
    "f.close()\n",
    "\n",
    "\n",
    "f = open('labels.pckl', 'rb')\n",
    "labels = pickle.load(f)\n",
    "f.close()"
   ]
  },
  {
   "cell_type": "code",
   "execution_count": 4,
   "metadata": {
    "collapsed": true,
    "deletable": true,
    "editable": true
   },
   "outputs": [],
   "source": [
    "# load training model\n",
    "f = open('svmmodel.pckl', 'rb')\n",
    "clf = pickle.load(f)\n",
    "f.close()"
   ]
  },
  {
   "cell_type": "code",
   "execution_count": 5,
   "metadata": {
    "collapsed": true,
    "deletable": true,
    "editable": true
   },
   "outputs": [],
   "source": [
    "y_pred = clf.predict(featues[:6])"
   ]
  },
  {
   "cell_type": "code",
   "execution_count": 6,
   "metadata": {
    "collapsed": false,
    "deletable": true,
    "editable": true
   },
   "outputs": [
    {
     "data": {
      "text/plain": [
       "array([1, 1, 1, 1, 1, 1])"
      ]
     },
     "execution_count": 6,
     "metadata": {},
     "output_type": "execute_result"
    }
   ],
   "source": [
    "y_pred"
   ]
  },
  {
   "cell_type": "code",
   "execution_count": 6,
   "metadata": {
    "collapsed": true,
    "deletable": true,
    "editable": true
   },
   "outputs": [],
   "source": [
    "# Testing"
   ]
  },
  {
   "cell_type": "code",
   "execution_count": 7,
   "metadata": {
    "collapsed": true,
    "deletable": true,
    "editable": true
   },
   "outputs": [],
   "source": [
    "im = imread('../data/images/pos_person/crop_000010a.png', as_grey=True)"
   ]
  },
  {
   "cell_type": "code",
   "execution_count": 8,
   "metadata": {
    "collapsed": false,
    "deletable": true,
    "editable": true
   },
   "outputs": [
    {
     "name": "stderr",
     "output_type": "stream",
     "text": [
      "C:\\Anaconda3\\lib\\site-packages\\skimage\\feature\\_hog.py:119: skimage_deprecation: Default value of `block_norm`==`L1` is deprecated and will be changed to `L2-Hys` in v0.15\n",
      "  'be changed to `L2-Hys` in v0.15', skimage_deprecation)\n"
     ]
    },
    {
     "data": {
      "image/png": "[encoded data removed]",
      "text/plain": [
       "<matplotlib.figure.Figure at 0x1c9016f3c50>"
      ]
     },
     "metadata": {},
     "output_type": "display_data"
    }
   ],
   "source": [
    "image = imread('../data/images/pos_person/crop_000010a.png', as_grey=True)\n",
    "\n",
    "\n",
    "fd, hog_image = hog(image, orientations=8, pixels_per_cell=(16, 16),\n",
    "                    cells_per_block=(1, 1), visualise=True)\n",
    "\n",
    "fig, (ax1, ax2) = plt.subplots(1, 2, figsize=(8, 4), sharex=True, sharey=True)\n",
    "\n",
    "ax1.axis('off')\n",
    "ax1.imshow(image, cmap=plt.cm.gray)\n",
    "ax1.set_title('Input image')\n",
    "ax1.set_adjustable('box-forced')\n",
    "\n",
    "# Rescale histogram for better display\n",
    "hog_image_rescaled = exposure.rescale_intensity(hog_image, in_range=(0, 0.02))\n",
    "\n",
    "ax2.axis('off')\n",
    "ax2.imshow(hog_image_rescaled, cmap=plt.cm.gray)\n",
    "ax2.set_title('Histogram of Oriented Gradients')\n",
    "ax1.set_adjustable('box-forced')\n",
    "plt.show()"
   ]
  },
  {
   "cell_type": "code",
   "execution_count": null,
   "metadata": {
    "collapsed": true,
    "deletable": true,
    "editable": true
   },
   "outputs": [],
   "source": []
  }
 ],
 "metadata": {
  "kernelspec": {
   "display_name": "Python 3",
   "language": "python",
   "name": "python3"
  },
  "language_info": {
   "codemirror_mode": {
    "name": "ipython",
    "version": 3
   },
   "file_extension": ".py",
   "mimetype": "text/x-python",
   "name": "python",
   "nbconvert_exporter": "python",
   "pygments_lexer": "ipython3",
   "version": "3.6.4"
  }
 },
 "nbformat": 4,
 "nbformat_minor": 2
}
