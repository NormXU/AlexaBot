{
 "cells": [
  {
   "cell_type": "code",
   "execution_count": 38,
   "metadata": {},
   "outputs": [],
   "source": [
    "import dlib\n",
    "import numpy as np\n",
    "import cv2\n",
    "from skimage import io\n",
    "import os\n",
    "import sys\n",
    "import glob\n",
    "import pickle\n",
    "import matplotlib.pyplot as plt\n",
    "import fnmatch\n",
    "from PIL import Image\n",
    "import scipy.misc\n",
    "from skimage import color\n"
   ]
  },
  {
   "cell_type": "code",
   "execution_count": 39,
   "metadata": {},
   "outputs": [],
   "source": [
    "pd_folder = r'E:\\notebookworkplace\\Face_recognition\\resized_set'"
   ]
  },
  {
   "cell_type": "code",
   "execution_count": 40,
   "metadata": {},
   "outputs": [],
   "source": [
    "options = dlib.simple_object_detector_training_options()"
   ]
  },
  {
   "cell_type": "code",
   "execution_count": 41,
   "metadata": {},
   "outputs": [],
   "source": [
    "options.epsilon = 0.01"
   ]
  },
  {
   "cell_type": "code",
   "execution_count": 42,
   "metadata": {},
   "outputs": [],
   "source": [
    "options.add_left_right_image_flips = True\n",
    "options.upsample_limit = 2\n",
    "# The trainer is a kind of support vector machine and therefore has the usual\n",
    "# SVM C parameter.  In general, a bigger C encourages it to fit the training\n",
    "# data better but might lead to overfitting.  You must find the best C value\n",
    "# empirically by checking how well the trained detector works on a test set of\n",
    "# images you haven't trained on.  Don't just leave the value set at 5.  Try a\n",
    "# few different C values and see what works best for your data.\n",
    "options.C = 5\n",
    "# Tell the code how many CPU cores your computer has for the fastest training.\n",
    "options.num_threads = 4\n",
    "options.be_verbose = True"
   ]
  },
  {
   "cell_type": "code",
   "execution_count": 43,
   "metadata": {},
   "outputs": [],
   "source": [
    "training_xml_path = os.path.join(pd_folder, \"PEDD.xml\")"
   ]
  },
  {
   "cell_type": "code",
   "execution_count": 44,
   "metadata": {},
   "outputs": [],
   "source": [
    "dlib.train_simple_object_detector(training_xml_path, \"Pedestriandetector.svm\", options)"
   ]
  },
  {
   "cell_type": "code",
   "execution_count": null,
   "metadata": {},
   "outputs": [],
   "source": []
  }
 ],
 "metadata": {
  "kernelspec": {
   "display_name": "Python [conda env:env_dlib]",
   "language": "python",
   "name": "conda-env-env_dlib-py"
  },
  "language_info": {
   "codemirror_mode": {
    "name": "ipython",
    "version": 3
   },
   "file_extension": ".py",
   "mimetype": "text/x-python",
   "name": "python",
   "nbconvert_exporter": "python",
   "pygments_lexer": "ipython3",
   "version": "3.6.6"
  }
 },
 "nbformat": 4,
 "nbformat_minor": 2
}
