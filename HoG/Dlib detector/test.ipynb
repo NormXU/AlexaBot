{
 "cells": [
  {
   "cell_type": "code",
   "execution_count": 4,
   "metadata": {
    "collapsed": true,
    "deletable": true,
    "editable": true
   },
   "outputs": [],
   "source": [
    "import dlib\n",
    "import numpy as np\n",
    "import cv2\n",
    "from skimage import io\n",
    "import os\n",
    "import sys\n",
    "import glob\n",
    "import pickle\n",
    "import matplotlib.pyplot as plt\n",
    "import fnmatch\n",
    "from PIL import Image\n",
    "import scipy.misc\n",
    "from skimage import color\n",
    "\n"
   ]
  },
  {
   "cell_type": "code",
   "execution_count": 5,
   "metadata": {
    "collapsed": false,
    "deletable": true,
    "editable": true
   },
   "outputs": [
    {
     "name": "stdout",
     "output_type": "stream",
     "text": [
      "Showing detections on the images in the faces folder...\n",
      "Number of faces detected: 2\n"
     ]
    }
   ],
   "source": [
    "detector = dlib.simple_object_detector(\"Pedestriandetector.svm\")\n",
    "win_det = dlib.image_window()\n",
    "win_det.set_image(detector)\n",
    "\n",
    "# Now let's run the detector over the images in the faces folder and display the\n",
    "# results.\n",
    "print(\"Showing detections on the images in the faces folder...\")\n",
    "win = dlib.image_window()\n",
    "\n",
    "filename = 'resized_set/img-0725-1.jpg'\n",
    "img = io.imread(filename)\n",
    "# aa.jpg|\n",
    "# aaa.jpg\n",
    "#abb.jpg\n",
    "#345459898120.jpg\n",
    "#gray_image = color.rgb2gray(img) \n",
    "#gray_image = cv2.cvtColor(img, cv2.COLOR_BGR2GRAY)\n",
    "dets = detector(img)\n",
    "print(\"Number of faces detected: {}\".format(len(dets)))\n",
    "   \n",
    "#img = io.imread(filename)\n",
    "#win.clear_overlay()\n",
    "win.set_image(img)\n",
    "win.add_overlay(dets)\n",
    "dlib.hit_enter_to_continue()"
   ]
  },
  {
   "cell_type": "code",
   "execution_count": null,
   "metadata": {
    "collapsed": true,
    "deletable": true,
    "editable": true
   },
   "outputs": [],
   "source": []
  }
 ],
 "metadata": {
  "kernelspec": {
   "display_name": "Python 3",
   "language": "python",
   "name": "python3"
  },
  "language_info": {
   "codemirror_mode": {
    "name": "ipython",
    "version": 3
   },
   "file_extension": ".py",
   "mimetype": "text/x-python",
   "name": "python",
   "nbconvert_exporter": "python",
   "pygments_lexer": "ipython3",
   "version": "3.6.4"
  }
 },
 "nbformat": 4,
 "nbformat_minor": 2
}
