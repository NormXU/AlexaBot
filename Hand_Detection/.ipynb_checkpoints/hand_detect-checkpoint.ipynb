{
 "cells": [
  {
   "cell_type": "code",
   "execution_count": 91,
   "metadata": {
    "collapsed": true,
    "deletable": true,
    "editable": true
   },
   "outputs": [],
   "source": [
    "import numpy as np\n",
    "import pandas as pd\n",
    "import cv2"
   ]
  },
  {
   "cell_type": "code",
   "execution_count": 145,
   "metadata": {
    "collapsed": true,
    "deletable": true,
    "editable": true
   },
   "outputs": [],
   "source": [
    "cap = cv2.VideoCapture(0)"
   ]
  },
  {
   "cell_type": "code",
   "execution_count": 146,
   "metadata": {
    "collapsed": true,
    "deletable": true,
    "editable": true
   },
   "outputs": [],
   "source": [
    "while(1):\n",
    "        \n",
    "    try:  \n",
    "          \n",
    "        ret, frame = cap.read()\n",
    "        frame = cv2.flip(frame, 1)\n",
    "        cv2.rectangle(frame,(170,170),(400,400),(0,255,0),0)\n",
    "        crop_image = frame[170:400, 170:400]\n",
    "        height, width, channels = crop_image.shape\n",
    "        #print(height, width)\n",
    "    \n",
    "        blur = cv2.blur(crop_image,(3,3), 0)\n",
    "    \n",
    "        hsv = cv2.cvtColor(blur, cv2.COLOR_BGR2HSV)\n",
    "        lower_range = np.array([2,0,0])\n",
    "        upper_range = np.array([16,255,255])\n",
    "    \n",
    "        mask = cv2.inRange(hsv,lower_range,upper_range)\n",
    "    \n",
    "        skinkernel = np.ones((5,5))\n",
    "        #Kernel matrices for morphological transformation    \n",
    "        dilation = cv2.dilate(mask, skinkernel, iterations = 1)\n",
    "        erosion = cv2.erode(dilation, skinkernel, iterations = 1) \n",
    "    \n",
    "        filtered = cv2.GaussianBlur(erosion, (15,15), 1)\n",
    "        ret,thresh = cv2.threshold(filtered, 127, 255, 0)\n",
    "    \n",
    "        Label_ret, markers = cv2.connectedComponents(thresh)\n",
    "        num = markers.max()\n",
    "    \n",
    "        #print(num)\n",
    "        ## If the count of pixels less than a threshold, then set pixels to `0`.\n",
    "        for i in range(1, num+1):\n",
    "            pts =  np.where(markers == i)\n",
    "            if len(pts[0]) < 150:\n",
    "                markers[pts] = 0\n",
    "    \n",
    "        \n",
    "        label_hue = np.uint8(markers.copy())\n",
    "    \n",
    "        label_hue = np.where(label_hue != 0, 255, label_hue)\n",
    "    \n",
    "    \n",
    "    \n",
    "        res = cv2.bitwise_and(crop_image,crop_image,mask = label_hue)\n",
    "    \n",
    "        res = cv2.cvtColor(res, cv2.COLOR_BGR2GRAY)\n",
    "        \n",
    "    \n",
    "    \n",
    "        # Find contours\n",
    "        image, contours, hierarchy = cv2.findContours(label_hue, cv2.RETR_TREE, cv2.CHAIN_APPROX_SIMPLE )\n",
    "    \n",
    "    \n",
    "        # Find contour with maximum area\n",
    "        contour = max(contours, key = lambda x: cv2.contourArea(x))\n",
    "        \n",
    "        # Create bounding rectangle around the contour\n",
    "        x,y,w,h = cv2.boundingRect(contour)\n",
    "        cv2.rectangle(crop_image,(x,y),(x+w,y+h),(0,0,255),0)\n",
    "        \n",
    "        # Find convex hull\n",
    "        hull = cv2.convexHull(contour)\n",
    "        \n",
    "        # Draw contour\n",
    "        drawing = np.zeros(crop_image.shape,np.uint8)\n",
    "        cv2.drawContours(drawing,[contour],-1,(0,255,0),0)\n",
    "        cv2.drawContours(drawing,[hull],-1,(0,0,255),0)\n",
    "        \n",
    "        # Find convexity defects\n",
    "        hull = cv2.convexHull(contour, returnPoints=False)\n",
    "        defects = cv2.convexityDefects(contour,hull)\n",
    "        \n",
    "        # Use cosine rule to find angle of the far point from the start and end point i.e. the convex points (the finger \n",
    "        # tips) for all defects\n",
    "        count_defects = 0\n",
    "        \n",
    "        for i in range(defects.shape[0]):\n",
    "            s,e,f,d = defects[i,0]\n",
    "            start = tuple(contour[s][0])\n",
    "            end = tuple(contour[e][0])\n",
    "            far = tuple(contour[f][0])\n",
    "            #print(end)\n",
    "            \n",
    "            a = math.sqrt((end[0] - start[0])**2 + (end[1] - start[1])**2)\n",
    "            #print(a)\n",
    "            b = math.sqrt((far[0] - start[0])**2 + (far[1] - start[1])**2)\n",
    "            #print('b')\n",
    "            c = math.sqrt((end[0] - far[0])**2 + (end[1] - far[1])**2)\n",
    "            #print('c')\n",
    "            angle = (math.acos((b**2 + c**2 - a**2)/(2*b*c))*180)/3.14\n",
    "            \n",
    "            # if angle > 90 draw a circle at the far point\n",
    "            if angle <= 90:\n",
    "                count_defects += 1\n",
    "                #print(count_defects)\n",
    "\n",
    "            cv2.line(drawing,start,end,[0,255,0],2)\n",
    "            #print(count_defects)\n",
    "            \n",
    "        if count_defects == 4:    \n",
    "            cv2.putText(frame,\"Go Forward\", (50,50), cv2.FONT_HERSHEY_SIMPLEX, 2, 2)\n",
    "            \n",
    "        [M,N] = label_hue.shape\n",
    "\n",
    "            \n",
    "        cv2.imshow('hand',res)\n",
    "        cv2.imshow('hand_binary',label_hue)\n",
    "    \n",
    "        cv2.imshow('original_frmae',frame)\n",
    "        all_image = np.hstack((drawing, crop_image))\n",
    "        cv2.imshow('Contours', all_image)\n",
    "    except:\n",
    "        pass\n",
    "        \n",
    "    \n",
    "    if cv2.waitKey(1) & 0xFF == ord('q'):\n",
    "        break\n",
    "    "
   ]
  },
  {
   "cell_type": "code",
   "execution_count": 147,
   "metadata": {
    "collapsed": true,
    "deletable": true,
    "editable": true
   },
   "outputs": [],
   "source": [
    "cv2.destroyAllWindows()\n",
    "cap.release()"
   ]
  },
  {
   "cell_type": "code",
   "execution_count": null,
   "metadata": {
    "collapsed": true,
    "deletable": true,
    "editable": true
   },
   "outputs": [],
   "source": []
  }
 ],
 "metadata": {
  "kernelspec": {
   "display_name": "Python 3",
   "language": "python",
   "name": "python3"
  },
  "language_info": {
   "codemirror_mode": {
    "name": "ipython",
    "version": 3
   },
   "file_extension": ".py",
   "mimetype": "text/x-python",
   "name": "python",
   "nbconvert_exporter": "python",
   "pygments_lexer": "ipython3",
   "version": "3.6.4"
  }
 },
 "nbformat": 4,
 "nbformat_minor": 2
}
